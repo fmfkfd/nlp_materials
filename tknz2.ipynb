{
 "cells": [
  {
   "cell_type": "markdown",
   "metadata": {
    "deletable": true,
    "editable": true
   },
   "source": [
    "# Tokenization\n",
    "+ What is tokenization?\n",
    "+ Sentences composed of words(?)\n",
    "+ Documents composed of sentences"
   ]
  },
  {
   "cell_type": "code",
   "execution_count": 20,
   "metadata": {
    "collapsed": true,
    "deletable": true,
    "editable": true
   },
   "outputs": [],
   "source": [
    "sentence = 'John, note down my phone number.'"
   ]
  },
  {
   "cell_type": "markdown",
   "metadata": {
    "deletable": true,
    "editable": true
   },
   "source": [
    "### Split using only space(' ')"
   ]
  },
  {
   "cell_type": "code",
   "execution_count": 21,
   "metadata": {
    "collapsed": false,
    "deletable": true,
    "editable": true
   },
   "outputs": [
    {
     "data": {
      "text/plain": [
       "['John,', 'note', 'down', 'my', 'phone', 'number.']"
      ]
     },
     "execution_count": 21,
     "metadata": {},
     "output_type": "execute_result"
    }
   ],
   "source": [
    "sentence.split(' ')"
   ]
  },
  {
   "cell_type": "code",
   "execution_count": 22,
   "metadata": {
    "collapsed": false,
    "deletable": true,
    "editable": true
   },
   "outputs": [
    {
     "name": "stdout",
     "output_type": "stream",
     "text": [
      "Number of tokens:6\n"
     ]
    }
   ],
   "source": [
    "print (\"Number of tokens:\"+str(len(sentence.split(' '))))"
   ]
  },
  {
   "cell_type": "markdown",
   "metadata": {
    "deletable": true,
    "editable": true
   },
   "source": [
    "### Problems in above method..."
   ]
  },
  {
   "cell_type": "code",
   "execution_count": 6,
   "metadata": {
    "collapsed": true,
    "deletable": true,
    "editable": true
   },
   "outputs": [],
   "source": [
    "import re\n"
   ]
  },
  {
   "cell_type": "code",
   "execution_count": 7,
   "metadata": {
    "collapsed": false,
    "deletable": true,
    "editable": true
   },
   "outputs": [
    {
     "data": {
      "text/plain": [
       "['John', 'note', 'down', 'my', 'phone', 'number']"
      ]
     },
     "execution_count": 7,
     "metadata": {},
     "output_type": "execute_result"
    }
   ],
   "source": [
    "regex = re.compile('[a-zA-Z]+')\n",
    "regex.findall(sentence)"
   ]
  },
  {
   "cell_type": "code",
   "execution_count": 8,
   "metadata": {
    "collapsed": false,
    "deletable": true,
    "editable": true
   },
   "outputs": [
    {
     "name": "stdout",
     "output_type": "stream",
     "text": [
      "Number of tokens:6\n"
     ]
    }
   ],
   "source": [
    "print (\"Number of tokens:\"+str(len(regex.findall(sentence))))"
   ]
  },
  {
   "cell_type": "code",
   "execution_count": 10,
   "metadata": {
    "collapsed": false,
    "deletable": true,
    "editable": true
   },
   "outputs": [
    {
     "data": {
      "text/plain": [
       "['John', ',', 'note', 'down', 'my', 'phone', 'number', '.']"
      ]
     },
     "execution_count": 10,
     "metadata": {},
     "output_type": "execute_result"
    }
   ],
   "source": [
    "regex = re.compile('[a-zA-Z]+|,+|\\.+')\n",
    "regex.findall(sentence)"
   ]
  },
  {
   "cell_type": "code",
   "execution_count": 11,
   "metadata": {
    "collapsed": false,
    "deletable": true,
    "editable": true
   },
   "outputs": [
    {
     "name": "stdout",
     "output_type": "stream",
     "text": [
      "Number of tokens:8\n"
     ]
    }
   ],
   "source": [
    "print (\"Number of tokens:\"+str(len(regex.findall(sentence))))"
   ]
  },
  {
   "cell_type": "code",
   "execution_count": 12,
   "metadata": {
    "collapsed": false,
    "deletable": true,
    "editable": true
   },
   "outputs": [
    {
     "data": {
      "text/plain": [
       "['John', ',', 'note', 'down', 'my', 'phone', 'number', ',', '9876543210', '.']"
      ]
     },
     "execution_count": 12,
     "metadata": {},
     "output_type": "execute_result"
    }
   ],
   "source": [
    "sentence = 'John, note down my phone number, 9876543210.'\n",
    "regex = re.compile('[a-zA-Z0-9]+|,+|\\.+')\n",
    "regex.findall(sentence)"
   ]
  },
  {
   "cell_type": "code",
   "execution_count": 13,
   "metadata": {
    "collapsed": false,
    "deletable": true,
    "editable": true
   },
   "outputs": [
    {
     "name": "stdout",
     "output_type": "stream",
     "text": [
      "Number of tokens:10\n"
     ]
    }
   ],
   "source": [
    "print (\"Number of tokens:\"+str(len(regex.findall(sentence))))"
   ]
  },
  {
   "cell_type": "code",
   "execution_count": 14,
   "metadata": {
    "collapsed": false,
    "deletable": true,
    "editable": true
   },
   "outputs": [
    {
     "data": {
      "text/plain": [
       "['John',\n",
       " ',',\n",
       " 'note',\n",
       " 'down',\n",
       " 'my',\n",
       " 'phone',\n",
       " 'number',\n",
       " ',',\n",
       " '+91-9876543210',\n",
       " '.']"
      ]
     },
     "execution_count": 14,
     "metadata": {},
     "output_type": "execute_result"
    }
   ],
   "source": [
    "sentence = 'John, note down my phone number, +91-9876543210.'\n",
    "regex = re.compile('[\\w+-]+|,+|\\.+')\n",
    "regex.findall(sentence)"
   ]
  },
  {
   "cell_type": "code",
   "execution_count": 15,
   "metadata": {
    "collapsed": false,
    "deletable": true,
    "editable": true
   },
   "outputs": [
    {
     "name": "stdout",
     "output_type": "stream",
     "text": [
      "Number of tokens:10\n"
     ]
    }
   ],
   "source": [
    "print (\"Number of tokens:\"+str(len(regex.findall(sentence))))"
   ]
  },
  {
   "cell_type": "code",
   "execution_count": 16,
   "metadata": {
    "collapsed": false,
    "deletable": true,
    "editable": true
   },
   "outputs": [
    {
     "data": {
      "text/plain": [
       "['While',\n",
       " 'calculating',\n",
       " '5+10',\n",
       " 'John',\n",
       " 'noted',\n",
       " 'down',\n",
       " 'my',\n",
       " 'phone',\n",
       " 'number',\n",
       " ',',\n",
       " '+91-9876543210',\n",
       " '.']"
      ]
     },
     "execution_count": 16,
     "metadata": {},
     "output_type": "execute_result"
    }
   ],
   "source": [
    "sentence = 'While calculating 5+10 John noted down my phone number, +91-9876543210.'\n",
    "regex = re.compile('[\\w+-]+|,+|\\.+')\n",
    "regex.findall(sentence)"
   ]
  },
  {
   "cell_type": "code",
   "execution_count": 17,
   "metadata": {
    "collapsed": false,
    "deletable": true,
    "editable": true
   },
   "outputs": [
    {
     "name": "stdout",
     "output_type": "stream",
     "text": [
      "Number of tokens:12\n"
     ]
    }
   ],
   "source": [
    "print (\"Number of tokens:\"+str(len(regex.findall(sentence))))"
   ]
  },
  {
   "cell_type": "code",
   "execution_count": 18,
   "metadata": {
    "collapsed": false,
    "deletable": true,
    "editable": true
   },
   "outputs": [
    {
     "data": {
      "text/plain": [
       "['While',\n",
       " 'calculating',\n",
       " '5',\n",
       " '+',\n",
       " '10',\n",
       " ',',\n",
       " 'John',\n",
       " 'noted',\n",
       " 'down',\n",
       " 'my',\n",
       " 'phone',\n",
       " 'number',\n",
       " ',',\n",
       " '+',\n",
       " '91',\n",
       " '-9876543210',\n",
       " '.']"
      ]
     },
     "execution_count": 18,
     "metadata": {},
     "output_type": "execute_result"
    }
   ],
   "source": [
    "sentence = 'While calculating 5+10, John noted down my phone number, +91-9876543210.'\n",
    "regex = re.compile('[\\d]+|[+]|[\\w+-]+|,+|\\.+')\n",
    "regex.findall(sentence)"
   ]
  },
  {
   "cell_type": "code",
   "execution_count": 19,
   "metadata": {
    "collapsed": false,
    "deletable": true,
    "editable": true
   },
   "outputs": [
    {
     "name": "stdout",
     "output_type": "stream",
     "text": [
      "Number of tokens:17\n"
     ]
    }
   ],
   "source": [
    "print (\"Number of tokens:\"+str(len(regex.findall(sentence))))"
   ]
  },
  {
   "cell_type": "markdown",
   "metadata": {
    "deletable": true,
    "editable": true
   },
   "source": [
    "### In tokenisation so far...\n",
    "\n",
    "    1.What can tokeniser so far do?\n",
    "    2.What they cant tokenise?"
   ]
  },
  {
   "cell_type": "code",
   "execution_count": null,
   "metadata": {
    "collapsed": true,
    "deletable": true,
    "editable": true
   },
   "outputs": [],
   "source": []
  }
 ],
 "metadata": {
  "kernelspec": {
   "display_name": "Python 2",
   "language": "python",
   "name": "python2"
  },
  "language_info": {
   "codemirror_mode": {
    "name": "ipython",
    "version": 2
   },
   "file_extension": ".py",
   "mimetype": "text/x-python",
   "name": "python",
   "nbconvert_exporter": "python",
   "pygments_lexer": "ipython2",
   "version": "2.7.6"
  }
 },
 "nbformat": 4,
 "nbformat_minor": 2
}
