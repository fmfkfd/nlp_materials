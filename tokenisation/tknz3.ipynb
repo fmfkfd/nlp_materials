{
 "cells": [
  {
   "cell_type": "markdown",
   "metadata": {},
   "source": [
    "# Tokenization\n",
    "+ What is tokenization?\n",
    "+ Sentences composed of words(?)\n",
    "+ Documents composed of sentences"
   ]
  },
  {
   "cell_type": "code",
   "execution_count": 1,
   "metadata": {
    "collapsed": true
   },
   "outputs": [],
   "source": [
    "sentence = 'John, note down my phone number.'"
   ]
  },
  {
   "cell_type": "markdown",
   "metadata": {},
   "source": [
    "### Split using only space(' ')"
   ]
  },
  {
   "cell_type": "code",
   "execution_count": null,
   "metadata": {
    "collapsed": true
   },
   "outputs": [],
   "source": []
  },
  {
   "cell_type": "code",
   "execution_count": 2,
   "metadata": {},
   "outputs": [
    {
     "data": {
      "text/plain": [
       "['John,', 'note', 'down', 'my', 'phone', 'number.']"
      ]
     },
     "execution_count": 2,
     "metadata": {},
     "output_type": "execute_result"
    }
   ],
   "source": [
    "sentence.split(' ')"
   ]
  },
  {
   "cell_type": "code",
   "execution_count": 3,
   "metadata": {},
   "outputs": [
    {
     "name": "stdout",
     "output_type": "stream",
     "text": [
      "Number of tokens:6\n"
     ]
    }
   ],
   "source": [
    "print (\"Number of tokens:\"+str(len(sentence.split(' '))))"
   ]
  },
  {
   "cell_type": "markdown",
   "metadata": {},
   "source": [
    "### Problems in above method..."
   ]
  },
  {
   "cell_type": "code",
   "execution_count": 4,
   "metadata": {
    "collapsed": true
   },
   "outputs": [],
   "source": [
    "import re\n"
   ]
  },
  {
   "cell_type": "code",
   "execution_count": 8,
   "metadata": {},
   "outputs": [
    {
     "data": {
      "text/plain": [
       "['John', 'note', 'down', 'my', 'phone', 'number']"
      ]
     },
     "execution_count": 8,
     "metadata": {},
     "output_type": "execute_result"
    }
   ],
   "source": [
    "regex = re.compile('[a-zA-Z]+')\n",
    "regex.findall(sentence)"
   ]
  },
  {
   "cell_type": "code",
   "execution_count": 6,
   "metadata": {},
   "outputs": [
    {
     "name": "stdout",
     "output_type": "stream",
     "text": [
      "Number of tokens:6\n"
     ]
    }
   ],
   "source": [
    "print (\"Number of tokens:\"+str(len(regex.findall(sentence))))"
   ]
  },
  {
   "cell_type": "code",
   "execution_count": 9,
   "metadata": {},
   "outputs": [
    {
     "data": {
      "text/plain": [
       "['John', ',', 'note', 'down', 'my', 'phone', 'number', '.']"
      ]
     },
     "execution_count": 9,
     "metadata": {},
     "output_type": "execute_result"
    }
   ],
   "source": [
    "regex = re.compile('[a-zA-Z]+|,+|\\.+')\n",
    "regex.findall(sentence)"
   ]
  },
  {
   "cell_type": "code",
   "execution_count": 10,
   "metadata": {},
   "outputs": [
    {
     "name": "stdout",
     "output_type": "stream",
     "text": [
      "Number of tokens:8\n"
     ]
    }
   ],
   "source": [
    "print (\"Number of tokens:\"+str(len(regex.findall(sentence))))"
   ]
  },
  {
   "cell_type": "code",
   "execution_count": 11,
   "metadata": {},
   "outputs": [
    {
     "data": {
      "text/plain": [
       "['John', ',', 'note', 'down', 'my', 'phone', 'number', ',', '9876543210', '.']"
      ]
     },
     "execution_count": 11,
     "metadata": {},
     "output_type": "execute_result"
    }
   ],
   "source": [
    "sentence = 'John, note down my phone number, 9876543210.'\n",
    "regex = re.compile('[a-zA-Z0-9]+|,+|\\.+')\n",
    "regex.findall(sentence)"
   ]
  },
  {
   "cell_type": "code",
   "execution_count": 12,
   "metadata": {},
   "outputs": [
    {
     "name": "stdout",
     "output_type": "stream",
     "text": [
      "Number of tokens:10\n"
     ]
    }
   ],
   "source": [
    "print (\"Number of tokens:\"+str(len(regex.findall(sentence))))"
   ]
  },
  {
   "cell_type": "code",
   "execution_count": 13,
   "metadata": {},
   "outputs": [
    {
     "data": {
      "text/plain": [
       "['John',\n",
       " ',',\n",
       " 'note',\n",
       " 'down',\n",
       " 'my',\n",
       " 'phone',\n",
       " 'number',\n",
       " ',',\n",
       " '+91-9876543210',\n",
       " '.']"
      ]
     },
     "execution_count": 13,
     "metadata": {},
     "output_type": "execute_result"
    }
   ],
   "source": [
    "sentence = 'John, note down my phone number, +91-9876543210.'\n",
    "regex = re.compile('[\\w+-]+|,+|\\.+')\n",
    "regex.findall(sentence)"
   ]
  },
  {
   "cell_type": "code",
   "execution_count": 14,
   "metadata": {},
   "outputs": [
    {
     "name": "stdout",
     "output_type": "stream",
     "text": [
      "Number of tokens:10\n"
     ]
    }
   ],
   "source": [
    "print (\"Number of tokens:\"+str(len(regex.findall(sentence))))"
   ]
  },
  {
   "cell_type": "code",
   "execution_count": 15,
   "metadata": {},
   "outputs": [
    {
     "data": {
      "text/plain": [
       "['While',\n",
       " 'calculating',\n",
       " '5+10',\n",
       " 'John',\n",
       " 'noted',\n",
       " 'down',\n",
       " 'my',\n",
       " 'phone',\n",
       " 'number',\n",
       " ',',\n",
       " '+91-9876543210',\n",
       " '.']"
      ]
     },
     "execution_count": 15,
     "metadata": {},
     "output_type": "execute_result"
    }
   ],
   "source": [
    "sentence = 'While calculating 5+10 John noted down my phone number, +91-9876543210.'\n",
    "regex = re.compile('[\\w+-]+|,+|\\.+')\n",
    "regex.findall(sentence)"
   ]
  },
  {
   "cell_type": "code",
   "execution_count": 16,
   "metadata": {},
   "outputs": [
    {
     "name": "stdout",
     "output_type": "stream",
     "text": [
      "Number of tokens:12\n"
     ]
    }
   ],
   "source": [
    "print (\"Number of tokens:\"+str(len(regex.findall(sentence))))"
   ]
  },
  {
   "cell_type": "code",
   "execution_count": 17,
   "metadata": {},
   "outputs": [
    {
     "data": {
      "text/plain": [
       "['While',\n",
       " 'calculating',\n",
       " '5',\n",
       " '+',\n",
       " '10',\n",
       " ',',\n",
       " 'John',\n",
       " 'noted',\n",
       " 'down',\n",
       " 'my',\n",
       " 'phone',\n",
       " 'number',\n",
       " ',',\n",
       " '+',\n",
       " '91',\n",
       " '-9876543210',\n",
       " '.']"
      ]
     },
     "execution_count": 17,
     "metadata": {},
     "output_type": "execute_result"
    }
   ],
   "source": [
    "sentence = 'While calculating 5+10, John noted down my phone number, +91-9876543210.'\n",
    "regex = re.compile('[\\d]+|[+]|[\\w+-]+|,+|\\.+')\n",
    "regex.findall(sentence)"
   ]
  },
  {
   "cell_type": "code",
   "execution_count": 18,
   "metadata": {},
   "outputs": [
    {
     "name": "stdout",
     "output_type": "stream",
     "text": [
      "Number of tokens:17\n"
     ]
    }
   ],
   "source": [
    "print (\"Number of tokens:\"+str(len(regex.findall(sentence))))"
   ]
  },
  {
   "cell_type": "markdown",
   "metadata": {},
   "source": [
    "###So far...\n",
    "    1.What can tokeniser so far do?\n",
    "    2.What they cant tokenise?"
   ]
  },
  {
   "cell_type": "markdown",
   "metadata": {
    "collapsed": true
   },
   "source": [
    "### Let us look at some of the types of tokens we can recognise."
   ]
  },
  {
   "cell_type": "code",
   "execution_count": 19,
   "metadata": {},
   "outputs": [
    {
     "data": {
      "text/plain": [
       "[('testing.123', 'gmail', 'com')]"
      ]
     },
     "execution_count": 19,
     "metadata": {},
     "output_type": "execute_result"
    }
   ],
   "source": [
    "# Emails \n",
    "email_re = re.compile(\"(.*)@(.*)\\.(.*)\")\n",
    "email_re.findall(\"testing.123@gmail.com\")"
   ]
  },
  {
   "cell_type": "code",
   "execution_count": 20,
   "metadata": {},
   "outputs": [
    {
     "data": {
      "text/plain": [
       "[('+91', '9966992217')]"
      ]
     },
     "execution_count": 20,
     "metadata": {},
     "output_type": "execute_result"
    }
   ],
   "source": [
    "# Phone numbers\n",
    "phone_re = re.compile(\"(\\+[0-9]{2}-?)?([0-9]{8,10})\")\n",
    "phone_re.findall('+919966992217')\n",
    "# Will not recognise : (91) 9966992217. "
   ]
  },
  {
   "cell_type": "code",
   "execution_count": 21,
   "metadata": {},
   "outputs": [
    {
     "data": {
      "text/plain": [
       "[('5.5', '.5', 'km/ph')]"
      ]
     },
     "execution_count": 21,
     "metadata": {},
     "output_type": "execute_result"
    }
   ],
   "source": [
    "# More interesting : Measures\n",
    "measure_re = re.compile('([0-9]+(\\.[0-9]+)?)\\s?([a-zA-Z]+/[a-zA-Z]+)')\n",
    "measure_re.findall('5.5 km/ph')"
   ]
  },
  {
   "cell_type": "code",
   "execution_count": null,
   "metadata": {
    "collapsed": true
   },
   "outputs": [],
   "source": []
  }
 ],
 "metadata": {
  "kernelspec": {
   "display_name": "Python 3",
   "language": "python",
   "name": "python3"
  },
  "language_info": {
   "codemirror_mode": {
    "name": "ipython",
    "version": 3
   },
   "file_extension": ".py",
   "mimetype": "text/x-python",
   "name": "python",
   "nbconvert_exporter": "python",
   "pygments_lexer": "ipython3",
   "version": "3.4.3"
  }
 },
 "nbformat": 4,
 "nbformat_minor": 2
}
