{
 "cells": [
  {
   "cell_type": "code",
   "execution_count": 73,
   "metadata": {
    "collapsed": true
   },
   "outputs": [],
   "source": [
    "from nltk import ngrams\n",
    "import re"
   ]
  },
  {
   "cell_type": "code",
   "execution_count": 74,
   "metadata": {
    "collapsed": true
   },
   "outputs": [],
   "source": [
    "laplace_alpha = 1"
   ]
  },
  {
   "cell_type": "code",
   "execution_count": 75,
   "metadata": {
    "collapsed": true
   },
   "outputs": [],
   "source": [
    "def get_vocab(text):\n",
    "    ngram_list = get_ngrams(text, 1)\n",
    "    vocab = list(set(ngram_list))\n",
    "    return vocab"
   ]
  },
  {
   "cell_type": "code",
   "execution_count": 76,
   "metadata": {
    "collapsed": true
   },
   "outputs": [],
   "source": [
    "def ngram_counter(sub, text):\n",
    "    count = text.count(sub)\n",
    "    return count"
   ]
  },
  {
   "cell_type": "code",
   "execution_count": 77,
   "metadata": {
    "collapsed": true
   },
   "outputs": [],
   "source": [
    "def get_ngrams(text, n):\n",
    "    ngram_list = []\n",
    "    ngram = ngrams(text.split(), n)\n",
    "    for gram in ngram:\n",
    "        grams = ' '.join(gram)\n",
    "        ngram_list.append(grams)\n",
    "    return ngram_list"
   ]
  },
  {
   "cell_type": "code",
   "execution_count": 78,
   "metadata": {
    "collapsed": true
   },
   "outputs": [],
   "source": [
    "def laplace_mle(lik, prior, text):\n",
    "    ngram = prior + \" \" + lik\n",
    "    n = len(ngram.split())\n",
    "    num = laplace_alpha + ngram_counter(ngram, text)\n",
    "    den = laplace_alpha*len(get_vocab(text)) + len(get_ngrams(text, n))\n",
    "    lap_prob = float(num)/float(den)\n",
    "    return lap_prob"
   ]
  },
  {
   "cell_type": "code",
   "execution_count": 79,
   "metadata": {
    "collapsed": true
   },
   "outputs": [],
   "source": [
    "def get_lambdaval(prior, text):\n",
    "    gram_len = len(prior.split()) + 1\n",
    "    all_count = len(get_ngrams(text, gram_len))\n",
    "    g_count = ngram_counter(prior, text)\n",
    "    wb_lambda = g_count/(g_count+all_count)\n",
    "    return wb_lambda"
   ]
  },
  {
   "cell_type": "code",
   "execution_count": 80,
   "metadata": {},
   "outputs": [],
   "source": [
    "def witten_bell(lik, prior, text):\n",
    "    if prior == '':\n",
    "        wb_prob = float(1)/float(len(get_vocab(text)))\n",
    "        return wb_prob\n",
    "    #wb_lambda = get_lambdaval(prior, text)\n",
    "    #new_prior = ' '.join(prior.split()[:-1])\n",
    "    #wb_prob = (1-wb_lambda)*laplace_mle(lik, prior, text) + wb_lambda*witten_bell(lik, new_prior, text)\n",
    "\n",
    "    ng = prior + ' ' + lik\n",
    "    ngram_count = ngram_counter(ng, text)\n",
    "    prior_count = ngram_counter(prior, text) #nwx\n",
    "    type_count = len(set(re.findall(prior+' [\\w]+', text)))\n",
    "    vocab_size = len(get_vocab(text))\n",
    "    z = vocab_size - type_count\n",
    "    if ngram_count == 0:\n",
    "        wb_prob = float(type_count)/float(z*(prior_count + type_count)\n",
    "    else:\n",
    "        wb_prob = float(ngram_count)/float(prior_count + type_count)\n",
    "    #return wb_prob"
   ]
  },
  {
   "cell_type": "code",
   "execution_count": 81,
   "metadata": {},
   "outputs": [],
   "source": [
    "f = open(\"12days.txt\",'r+')\n",
    "doc = f.read()"
   ]
  },
  {
   "cell_type": "code",
   "execution_count": 82,
   "metadata": {},
   "outputs": [
    {
     "name": "stdout",
     "output_type": "stream",
     "text": [
      "{'TO EVICT', 'TO GET', 'TO INFLICT', 'TO DEATH', 'TO ACKNOWLEDGE', 'TO REACH', 'TO DO', 'TO BRING', 'TO SHOOT', 'TO ALL', 'TO GIVE', 'TO THE'}\n",
      "None\n"
     ]
    }
   ],
   "source": [
    "print (witten_bell(\"THE\",\"TO\", doc))"
   ]
  },
  {
   "cell_type": "code",
   "execution_count": 83,
   "metadata": {
    "collapsed": true
   },
   "outputs": [],
   "source": [
    "f.close()"
   ]
  },
  {
   "cell_type": "code",
   "execution_count": null,
   "metadata": {
    "collapsed": true
   },
   "outputs": [],
   "source": []
  }
 ],
 "metadata": {
  "kernelspec": {
   "display_name": "Python 3",
   "language": "python",
   "name": "python3"
  },
  "language_info": {
   "codemirror_mode": {
    "name": "ipython",
    "version": 3
   },
   "file_extension": ".py",
   "mimetype": "text/x-python",
   "name": "python",
   "nbconvert_exporter": "python",
   "pygments_lexer": "ipython3",
   "version": "3.4.3"
  }
 },
 "nbformat": 4,
 "nbformat_minor": 2
}
